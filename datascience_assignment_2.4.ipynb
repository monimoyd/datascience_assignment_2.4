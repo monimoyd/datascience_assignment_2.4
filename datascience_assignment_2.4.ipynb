{
 "cells": [
  {
   "cell_type": "markdown",
   "metadata": {},
   "source": [
    "## Program to convert to print the given string in the format specified in the sample output\n",
    "\n",
    "WE, THE PEOPLE OF INDIA, having solemnly resolved to constitute India into a\n",
    "SOVEREIGN, SOCIALIST, SECULAR, DEMOCRATIC REPUBLIC and to secure to all\n",
    "its citizens\n",
    "\n",
    "## Sample Output:\n",
    "WE, THE PEOPLE OF INDIA,\n",
    "having solemnly resolved to constitute India into a SOVEREIGN, !\n",
    "SOCIALIST, SECULAR, DEMOCRATIC REPUBLIC\n",
    "and to secure to all its citizens:\n",
    "\n",
    "## Solution:\n",
    "\n",
    "###  Steps: \n",
    " * Define a string conversion matrix conversion_matrix which has fields: start pattern, end pattern, prepend string, append string\n",
    " * Initialize a output string output_string as blank\n",
    " * Take the input string, for each entry in conversion_matrix find the substring between start pattern and end pattern (excluding end pattern) and transformed string apply prepend and append string and append to the output_string\n"
   ]
  },
  {
   "cell_type": "code",
   "execution_count": 4,
   "metadata": {},
   "outputs": [
    {
     "name": "stdout",
     "output_type": "stream",
     "text": [
      "WE, THE PEOPLE OF INDIA, \n",
      "\thaving solemnly resolved to constitute India into a SOVEREIGN, !\n",
      "\tSOCIALIST, SECULAR, DEMOCRATIC REPUBLIC !\n",
      "\t\tand to secure to all its citizens:\n"
     ]
    }
   ],
   "source": [
    "# Define the raw string\n",
    "s = \"WE, THE PEOPLE OF INDIA, having solemnly resolved to constitute India into a SOVEREIGN, SOCIALIST, SECULAR, DEMOCRATIC REPUBLIC and to secure to all its citizens\"\n",
    "\n",
    "# Define string conersion matrix which has fields: start pattern, end pattern,\n",
    "# prepend string, append string\n",
    "conversion_matrix = [[\"WE\", \"having\", \"\", \"\\n\" ],\n",
    "                    [\"having\", \"SOCIALIST\", \"\\t\", \"!\\n\"],\n",
    "                    [\"SOCIALIST\", \"and\", \"\\t\", \"!\\n\"],\n",
    "                    [\"and\", \"$\", \"\\t\\t\", \":\"]]\n",
    "\n",
    "# Initialize index and output string \n",
    "index = 0\n",
    "output = \"\"\n",
    "# Iterate over entries in conversion matrix\n",
    "for entry in conversion_matrix:\n",
    "    # Special handling for last substring part having end_pattern $\n",
    "    if entry[1] == \"$\":\n",
    "        start_index = s.find(entry[0], index)\n",
    "        if (start_index >=0) :\n",
    "            sub_str = s[start_index: ]\n",
    "            output +=  entry[2] + sub_str + entry[3]\n",
    "    else:\n",
    "            #find the substring between start pattern and end pattern (excluding end pattern) \n",
    "            # and transformed string apply prepend and append string and append to the output_string\n",
    "            start_index = s.find(entry[0], index)\n",
    "            end_index = s.find(entry[1], index)\n",
    "            if (start_index >=0 and end_index >=0):\n",
    "                sub_str = s[start_index: end_index]\n",
    "                output +=  entry[2] + sub_str + entry[3]\n",
    "                index = end_index\n",
    "print(output)            \n"
   ]
  },
  {
   "cell_type": "code",
   "execution_count": null,
   "metadata": {},
   "outputs": [],
   "source": []
  }
 ],
 "metadata": {
  "kernelspec": {
   "display_name": "Python 3",
   "language": "python",
   "name": "python3"
  },
  "language_info": {
   "codemirror_mode": {
    "name": "ipython",
    "version": 3
   },
   "file_extension": ".py",
   "mimetype": "text/x-python",
   "name": "python",
   "nbconvert_exporter": "python",
   "pygments_lexer": "ipython3",
   "version": "3.6.4"
  }
 },
 "nbformat": 4,
 "nbformat_minor": 2
}
